{
 "cells": [
  {
   "cell_type": "code",
   "execution_count": 22,
   "id": "c6c49515",
   "metadata": {
    "scrolled": true
   },
   "outputs": [
    {
     "name": "stdout",
     "output_type": "stream",
     "text": [
      "What is your Name?\n",
      "\n"
     ]
    }
   ],
   "source": [
    "print(\"What is your Name?\")\n",
    "username = input()"
   ]
  },
  {
   "cell_type": "code",
   "execution_count": 23,
   "id": "0f845ad9",
   "metadata": {},
   "outputs": [],
   "source": [
    "\n",
    "name = \"chatbot-2712\"\n",
    "weather = \"Monsoon\"\n",
    "mood =\"good\"\n",
    "\n",
    "resp = {\n",
    "    \"what is your name\" :[\n",
    "        f\"my name is {name}\",\n",
    "        f\"they call me {name}\",\n",
    "        f\"i go by the name {name}\"\n",
    "    ],\n",
    "    \n",
    "    \"how are you feeling today\" :[\n",
    "        f\"i'm feeling {mood}\",\n",
    "        f\"{mood}! How about you?\",\n",
    "        f\"I am {mood}! How about yourself?\"\n",
    "    ],\n",
    "    \n",
    "    \"what's today's weather\": [ \n",
    "        f\"The weather is {weather}\", \n",
    "        f\"It's {weather} today\"],\n",
    "    \n",
    "    \n",
    "    \"\": [ \n",
    "        \"Hey! Are you there?\",\n",
    "        \"What do you mean by these?\",\n",
    "    ],\n",
    "    \n",
    "    \"default\": [\n",
    "        \"This is a default message\"\n",
    "    ]\n",
    "\n",
    "        \n",
    "\n",
    "    \n",
    "\n",
    "    \n",
    "    \n",
    "}"
   ]
  },
  {
   "cell_type": "code",
   "execution_count": 24,
   "id": "0fbf6d57",
   "metadata": {},
   "outputs": [],
   "source": [
    "import random"
   ]
  },
  {
   "cell_type": "code",
   "execution_count": 25,
   "id": "cc46446a",
   "metadata": {},
   "outputs": [],
   "source": [
    "def res(message):\n",
    "    if message in resp:\n",
    "        bot_message = random.choice(resp[message])\n",
    "    else:\n",
    "        bot_message = random.choice(resp[\"default\"])\n",
    "        \n",
    "    return bot_message"
   ]
  },
  {
   "cell_type": "code",
   "execution_count": 26,
   "id": "108d2d9c",
   "metadata": {},
   "outputs": [],
   "source": [
    "def real(usertext):\n",
    "    if \"name\" in usertext:\n",
    "        usertext_actual = \"what is your name\"\n",
    "    elif \"weather\" in usertext:\n",
    "        usertext_actual = \"what's today's weather\"\n",
    "    elif \"how are\" in usertext:\n",
    "        usertext_actual = \"how are you feeling today\"\n",
    "    else: \n",
    "        usertext_actual = \"\"\n",
    "    return usertext_actual\n",
    "\n",
    "    \n",
    "        "
   ]
  },
  {
   "cell_type": "code",
   "execution_count": 27,
   "id": "6607b0c3",
   "metadata": {},
   "outputs": [],
   "source": [
    "def send_text(text):\n",
    "    print(text)\n",
    "    response = res(text)\n",
    "    print(response)"
   ]
  },
  {
   "cell_type": "code",
   "execution_count": null,
   "id": "cbea13ad",
   "metadata": {},
   "outputs": [],
   "source": [
    "while 1:\n",
    "    user_input = input()\n",
    "    user_input = user_input.lower()\n",
    "    possible_messages = real(user_input)\n",
    "    send_text(possible_messages)\n",
    "    if user_input == \"exit\" or user_input == \"stop\": \n",
    "        break\n",
    "\n",
    "    "
   ]
  },
  {
   "cell_type": "code",
   "execution_count": null,
   "id": "6c31a565",
   "metadata": {},
   "outputs": [],
   "source": []
  }
 ],
 "metadata": {
  "kernelspec": {
   "display_name": "Python 3",
   "language": "python",
   "name": "python3"
  },
  "language_info": {
   "codemirror_mode": {
    "name": "ipython",
    "version": 3
   },
   "file_extension": ".py",
   "mimetype": "text/x-python",
   "name": "python",
   "nbconvert_exporter": "python",
   "pygments_lexer": "ipython3",
   "version": "3.8.8"
  }
 },
 "nbformat": 4,
 "nbformat_minor": 5
}
